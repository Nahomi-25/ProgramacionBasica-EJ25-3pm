{
 "cells": [
  {
   "cell_type": "markdown",
   "metadata": {},
   "source": [
    "# Ejercicio 1 \n",
    "¿Cuál es la función de la memoria secundaria en una computadora?\n",
    "c= Almacenar información durante mucho tiempo, incluso después de ciclos de apagado y encendido."
   ]
  },
  {
   "cell_type": "markdown",
   "metadata": {},
   "source": [
    "# Ejercicio 2\n",
    "¿Qué es un programa?\n",
    "Son una serie de instrucciones escritas en un código de programación que la computadora puede ejecutar para solucionar un problema."
   ]
  },
  {
   "cell_type": "markdown",
   "metadata": {},
   "source": [
    "# Ejercicio 3\n",
    "¿Cuál es la diferencia entre un compilador y un intérprete?\n",
    "El compilador necesita un código completo para poder traducirlo mientras que un intérprete es más intercativo, ya que puedes crear y modificar el código y el programa puede dar retroalimentación del código."
   ]
  },
  {
   "cell_type": "markdown",
   "metadata": {},
   "source": [
    "# Ejercicio 4\n",
    "¿Cuál de los siguientes contiene “código máquina”?\n",
    "a= El intérprete de Python."
   ]
  },
  {
   "cell_type": "markdown",
   "metadata": {},
   "source": [
    "# Ejercicio 5\n",
    "¿Qué está mal en el siguiente código?:\n",
    ">>> primt ’¡Hola, mundo!’\n",
    "File \"<stdin>\", line 1\n",
    "primt ’¡Hola, mundo!’\n",
    "^\n",
    "SyntaxError: invalid syntax\n",
    ">>>\n",
    "\n",
    "La palabra print que esta mal escrita, después debería de estar el parentesis que contenga el mensaje a mostrar entre comillas."
   ]
  },
  {
   "cell_type": "markdown",
   "metadata": {},
   "source": [
    "# Ejercicio 6\n",
    "¿En qué lugar del computador queda almacenada una variable, como en este caso “x”,\n",
    "después de ejecutar la siguiente línea de Python?:\n",
    "x = 123\n",
    "b= Memoria Principal."
   ]
  },
  {
   "cell_type": "markdown",
   "metadata": {},
   "source": [
    "# Ejercicio 7\n",
    "¿Qué mostrará en pantalla el siguiente programa?:\n",
    "x = 43\n",
    "x = x + 1\n",
    "print(x)\n",
    "b= 44."
   ]
  },
  {
   "cell_type": "markdown",
   "metadata": {},
   "source": [
    "# Ejercicio 8\n",
    "Explica cada uno de los siguientes conceptos usando un ejemplo de una capacidad\n",
    "humana:\n",
    "1. Unidad central de procesamiento: la capcidad de aprender\n",
    "2. Memoria principal: la memoria a corto plazo\n",
    "3. Memoria secundaria: los recuerdos\n",
    "4. Dispositivos de entrada: escuchar\n",
    "5. Dispositivos de salida: las formas de expresión como hablar."
   ]
  },
  {
   "cell_type": "markdown",
   "metadata": {},
   "source": [
    "# Ejercicio 9\n",
    "¿Cómo puedes corregir un “Error de sintaxis”?\n",
    "Revisando la \"retroalimentación\" que da el sistema y principalmente comprobando si se siguieron las reglas del programa (símbolos y palabras reservadas)"
   ]
  }
 ],
 "metadata": {
  "language_info": {
   "name": "python"
  }
 },
 "nbformat": 4,
 "nbformat_minor": 2
}
